{
 "cells": [
  {
   "cell_type": "markdown",
   "id": "1ad392e5",
   "metadata": {},
   "source": [
    "# Fantasy Premier League Data Clean-up and EDA\n",
    "\n",
    "\n",
    "We will be taking a look at a Fantasy Premier League dataset to see how we can analyze and predict players performances in the dynamic world of fantasy football. We will be exploring the complexity associated with player statistics, team dynamics and what factors contribute to becoming a top participant in the Fantasy Premier League(FPL). \n",
    "\n",
    "\n",
    "## Objective:\n",
    "We will be performing an thorough Exploratory Data Analysis(EDA) to gain our preliminary insights by looking at historical data.\n",
    "\n",
    "## Data Source:\n",
    "We will be reviewing the FPL data for the 2022/2023 season for each player over the course of 38 gameweeks. This data was obtained from:\n",
    "Anand, Vaastav. (2023). FPL Historical Dataset. https://github.com/vaastav/Fantasy-Premier-League/.\n",
    "\n",
    "## Data Columns and Descriptions\n",
    "\n",
    "| Column Name                | Description                                                                                                                                                                         |\n",
    "|----------------------------|-------------------------------------------------------------------------------------------------------------------------------------------------------------------------------------|\n",
    "| name                       | A player's name                                                                                                                                                                     |\n",
    "| position                   | A player's position                                                                                                                                                                 |\n",
    "| team                       | The team a player belongs to                                                                                                                                                        |\n",
    "|                         xP | Expected points calculated by FPL (what we will try to beat in modelling)                                                                                                           |\n",
    "| assists                    | The number of passes in a game a player made that directly contributed to a goal                                                                                                    |\n",
    "| bonus                      | The number of bonus points a player earned in a game                                                                                                                                |\n",
    "| bps                        | The number of points earned through the bonus points system in FPL                                                                                                                  |\n",
    "| clean_sheets               | Has a player successfully prevented the opposing team from scoring                                                                                                                  |\n",
    "| creativity                 | Creativity assesses player performance in terms of producing goalscoring opportunities for others. It can be used as a guide to identify the players most likely to supply assists. |\n",
    "| element                    | Indicates a player's position in ordinal format                                                                                                                                     |\n",
    "| expected_assists           | A statistic that measures the number of assists that a player was expected to have returned in a match.                                                                             |\n",
    "| expected_goal_involvements | A statistic that measures both the number of goals and assists that a team or player were expected to return in a Gameweek                                                          |\n",
    "| expected_goals             | A statistic that measures both the quantity and quality of shots, based on how often each is normally a goal                                                                        |\n",
    "| expected_goals_conceded    | This is the expected number of goals that a defence is expected to concede                                                                                                          |\n",
    "| fixture                    | The game number in Premier League                                                                                                                                                   |\n",
    "| goals_conceded             | The number of goals conceded by a player's team                                                                                                                                     |\n",
    "| goals_scored               | The number of goals scored by a player's team                                                                                                                                       |\n",
    "| ict_index                  | All three of influence, creativity, and threat scores are combined to create an overall ICT Index score                                                                             |\n",
    "| influence                  | Influence evaluates the degree to which a player has made an impact on a single match or throughout the season                                                                      |\n",
    "| kickoff_time               | The date and time that a match was played                                                                                                                                           |\n",
    "| minutes                    | The number of minutes a player was on the pitch                                                                                                                                     |\n",
    "| opponent_team              | The opposition team in number format                                                                                                                                                |\n",
    "| own_goals                  | A goal scored inadvertently when the ball is struck into the goal by a player on the defensive team                                                                                 |\n",
    "| penalties_missed           | The number of penalties that a player missed in a match                                                                                                                             |\n",
    "| penalties_saved            | The number of penalties saved by a goalkeeper                                                                                                                                       |\n",
    "| red_cards                  | If a player was sent off in a match by receiving a red card                                                                                                                         |\n",
    "| round                      | The round or Gameweek that a match was played                                                                                                                                       |\n",
    "| saves                      | The number of saves made by a goalkeeper                                                                                                                                            |\n",
    "| selected                   | The number of FPL teams that have selected the player                                                                                                                               |\n",
    "| starts                     | Indicating if the player was on the starting XI                                                                                                                                     |\n",
    "| team_a_score               | The number of goals scored by the away team                                                                                                                                         |\n",
    "| team_h_score               | The number of goals scored by the home team                                                                                                                                         |\n",
    "| threat                     | This is a value that examines a player's threat on goal. It gauges the individuals most likely to score goals.                                                                      |\n",
    "| total_points               | The number of FPL points earned in a gameweek                                                                                                                                       |\n",
    "| transfers_balance          | The net transfers to FPL teams for a player                                                                                                                                         |\n",
    "| transfers_in               | The number of transfers into FPL teams                                                                                                                                              |\n",
    "| transfers_out              | The number of transfers out of FPL teams                                                                                                                                            |\n",
    "| value                      | The cost of a player                                                                                                                                                                |\n",
    "| was_home                   | If the player was playing at home or not                                                                                                                                            |\n",
    "| yellow_cards               | The number of yellow cards received by a player                                                                                                                                     |\n",
    "| GW                         | The round or Gameweek that a match was played                                                                                                                                       |"
   ]
  },
  {
   "cell_type": "markdown",
   "id": "1ec2f93a",
   "metadata": {},
   "source": [
    "To bgein with our analysis, we will be reading the data, analyzing its shape, checking for null values and understanding the duplicates if any"
   ]
  },
  {
   "cell_type": "code",
   "execution_count": null,
   "id": "5e4c73c9",
   "metadata": {},
   "outputs": [],
   "source": [
    "import pandas as pd\n",
    "import seaborn as sns\n",
    "import numpy as np\n",
    "import matplotlib.pyplot as plt\n",
    "import plotly.express as px"
   ]
  },
  {
   "cell_type": "code",
   "execution_count": null,
   "id": "12b7598c",
   "metadata": {},
   "outputs": [],
   "source": [
    "df = pd.read_csv('../data/merged_gw.csv')"
   ]
  },
  {
   "cell_type": "code",
   "execution_count": null,
   "id": "c0585dad",
   "metadata": {},
   "outputs": [],
   "source": [
    "df.shape"
   ]
  },
  {
   "cell_type": "markdown",
   "id": "ef252eec",
   "metadata": {},
   "source": [
    "We can see that there are  26505 rows and 41 columns in our dataset. There are 38 GameWeeks in a typical premier league season and 20 teams in total."
   ]
  },
  {
   "cell_type": "code",
   "execution_count": null,
   "id": "454cab12",
   "metadata": {},
   "outputs": [],
   "source": [
    "df.nunique() #check to see how many unique variables we have in each row"
   ]
  },
  {
   "cell_type": "markdown",
   "id": "c03c1958",
   "metadata": {},
   "source": [
    "We can see that we have 777 names meaning there were 777 players in total across all teams in this season. We also have 20 teams which corresponds with the required value. We have 4 positions which are FWD for forwards, MID for midfielders, DEF for defenders and GK for goalkeepers. We should have 38 gameweeks but we get 37 unique values for GW. We will analyze this further to get more insight"
   ]
  },
  {
   "cell_type": "code",
   "execution_count": null,
   "id": "d4d4cc50",
   "metadata": {},
   "outputs": [],
   "source": [
    "df['GW'].unique()"
   ]
  },
  {
   "cell_type": "markdown",
   "id": "0169dc94",
   "metadata": {},
   "source": [
    "By taking a look at the unique values in the GW column, we can see that GW7. We performed a google search and found out that this week was rolled to honour the life of Queen Elizabeth who passed away.\n",
    "\n",
    "For further analysis, we can see the data for one player"
   ]
  },
  {
   "cell_type": "code",
   "execution_count": null,
   "id": "7ed35c08",
   "metadata": {
    "scrolled": true
   },
   "outputs": [],
   "source": [
    "single_df = df.groupby('name')\n",
    "single_df.get_group('Harry Kane') "
   ]
  },
  {
   "cell_type": "markdown",
   "id": "06aaf99d",
   "metadata": {},
   "source": [
    "We can confirm form looking at the dataset for Harry Kane that GW 7 has been omitted so we can carry on with our analysis"
   ]
  },
  {
   "cell_type": "code",
   "execution_count": null,
   "id": "dd06dabc",
   "metadata": {
    "scrolled": false
   },
   "outputs": [],
   "source": [
    "df.info()"
   ]
  },
  {
   "cell_type": "markdown",
   "id": "ade9dedc",
   "metadata": {},
   "source": [
    "We can now check the datatypes for all the columns in the dataset. Name, team, position, and kickoff_time are all of object. We can leave those for now until we think they will be necessary for our analysis. \n",
    "\n",
    "Was_home is of bool type. We can change this to integer later on since it may be useful later on."
   ]
  },
  {
   "cell_type": "code",
   "execution_count": null,
   "id": "e18ce97e",
   "metadata": {},
   "outputs": [],
   "source": [
    "df.head()"
   ]
  },
  {
   "cell_type": "code",
   "execution_count": null,
   "id": "b37bdd2a",
   "metadata": {},
   "outputs": [],
   "source": [
    "df.tail()"
   ]
  },
  {
   "cell_type": "code",
   "execution_count": null,
   "id": "2380cc56",
   "metadata": {},
   "outputs": [],
   "source": [
    "df.sample(10)"
   ]
  },
  {
   "cell_type": "markdown",
   "id": "0fb499d1",
   "metadata": {},
   "source": [
    "Let us check to see if there are any duplicate rows"
   ]
  },
  {
   "cell_type": "code",
   "execution_count": null,
   "id": "b04d96c8",
   "metadata": {},
   "outputs": [],
   "source": [
    "df[df.duplicated()]"
   ]
  },
  {
   "cell_type": "markdown",
   "id": "37004e6f",
   "metadata": {},
   "source": [
    "No duplicate rows were found.\n",
    "Let us also check if any columns have duplicate values"
   ]
  },
  {
   "cell_type": "code",
   "execution_count": null,
   "id": "e2e28111",
   "metadata": {},
   "outputs": [],
   "source": [
    "df.T.duplicated()"
   ]
  },
  {
   "cell_type": "markdown",
   "id": "e13a2255",
   "metadata": {},
   "source": [
    "We can see that GW has duplicate values. This is expected since each player has a corresponding gameweek. For example, each player played in gameweek 1 so 1 will be duplicated 777 times\n",
    "\n",
    "Let us check for null values"
   ]
  },
  {
   "cell_type": "code",
   "execution_count": null,
   "id": "d0d89c07",
   "metadata": {},
   "outputs": [],
   "source": [
    "df['element'].head(30)"
   ]
  },
  {
   "cell_type": "code",
   "execution_count": null,
   "id": "adbfd452",
   "metadata": {},
   "outputs": [],
   "source": [
    "df.isna().sum() # Checking for any null values"
   ]
  },
  {
   "cell_type": "markdown",
   "id": "2d57f7b5",
   "metadata": {},
   "source": [
    "There are no null values present in the dataset"
   ]
  },
  {
   "cell_type": "markdown",
   "id": "ee24fe68",
   "metadata": {},
   "source": [
    "### Preliminary Exploratory Data Analysis(EDA)\n",
    "In our preliminary data analysis we will:\n",
    "1. look at null and unique values\n",
    "2. look at how each position contributes to total points\n",
    "3. criterias that contribute to more points and negative points\n"
   ]
  },
  {
   "cell_type": "markdown",
   "id": "e09ef321",
   "metadata": {},
   "source": [
    "Let's start by looking at the statistical analysis of our columns"
   ]
  },
  {
   "cell_type": "code",
   "execution_count": null,
   "id": "6ef6603f",
   "metadata": {},
   "outputs": [],
   "source": [
    "df.describe()"
   ]
  },
  {
   "cell_type": "markdown",
   "id": "72f82f3f",
   "metadata": {},
   "source": [
    "From this, we can see the minimum and maximum values of all our integer columns as well as the average values.\n",
    "\n",
    "Our dataset has too many columns. Let us see if we can reduce the number of columns by only selecting the important columns that we will be using for our analysis."
   ]
  },
  {
   "cell_type": "code",
   "execution_count": null,
   "id": "0e0f2133",
   "metadata": {
    "scrolled": true
   },
   "outputs": [],
   "source": [
    "pl_df=df.groupby(['name', 'team', 'position']).agg(\n",
    "    total_points=('total_points', 'sum'),\n",
    "        minutes=('minutes', 'sum'),\n",
    "        goals_scored=('goals_scored', 'sum'),\n",
    "        assists=('assists', 'sum'),\n",
    "        clean_sheets=('clean_sheets', 'sum'),\n",
    "        saves=('saves', 'sum'),\n",
    "        penalties_saved=('penalties_saved', 'sum'),\n",
    "        penalties_missed=('penalties_missed', 'sum'),\n",
    "        goals_conceded=('goals_conceded', 'sum'),\n",
    "        own_goals=('own_goals', 'sum'),\n",
    "        yellow_cards=('yellow_cards', 'sum'),\n",
    "        red_cards=('red_cards', 'sum'),\n",
    ").reset_index().sort_values('total_points', ascending=False)\n",
    "current_player_team =  df.loc[df['GW'] == 30, ['name', 'team', 'position', 'value']]\n",
    "player_df = pl_df.merge(current_player_team, on=['name', 'position', 'team'])\n",
    "player_df\n"
   ]
  },
  {
   "cell_type": "markdown",
   "id": "6a78afc6",
   "metadata": {},
   "source": [
    "We created a new dataset called player_df which contains 16 important columns out of the initial 26 columns. The columns we selected are the columns we expect to have some impact on the total points earned by players. These columns include name, team, position, total_points, goals_scored,etc\n",
    "\n",
    "We can also notice that we now have 754 rows. This is because during the course of the season, certain players get transferred out to other leagues and some get transferred in. To make sure we get the players present at the end of the season, we looked at players available after gameweek 30 which happens after the transfer seasons of the league"
   ]
  },
  {
   "cell_type": "code",
   "execution_count": null,
   "id": "1b81096d",
   "metadata": {},
   "outputs": [],
   "source": [
    "duplicate_names = player_df[player_df.duplicated(subset='name', keep=False)]\n",
    "duplicate_names"
   ]
  },
  {
   "cell_type": "markdown",
   "id": "11218f8c",
   "metadata": {},
   "source": [
    "We checked to see if we had any duplicate player names and found that Ben Davies appears twice. This is because they are 2 different players in two different teams so we can leave it the way it is."
   ]
  },
  {
   "cell_type": "code",
   "execution_count": null,
   "id": "086cc418",
   "metadata": {},
   "outputs": [],
   "source": [
    "player_df.info()"
   ]
  },
  {
   "cell_type": "markdown",
   "id": "e0b6d437",
   "metadata": {},
   "source": [
    "To begin our analysis, we first look at the top 20 players based on total points earned in the season."
   ]
  },
  {
   "cell_type": "code",
   "execution_count": null,
   "id": "a05e6858",
   "metadata": {
    "scrolled": false
   },
   "outputs": [],
   "source": [
    "top_20_players = player_df.sort_values(by='total_points', ascending=False).head(20)\n",
    "top_20_players"
   ]
  },
  {
   "cell_type": "code",
   "execution_count": null,
   "id": "40f7cc7d",
   "metadata": {
    "scrolled": false
   },
   "outputs": [],
   "source": [
    "plt.figure(figsize=(12, 6))\n",
    "bars = plt.bar(top_20_players['name'] + ' (' + top_20_players['position'] + ', ' + top_20_players['team'] + ')', top_20_players['total_points'], color='skyblue')\n",
    "\n",
    "# Display total points on the bars\n",
    "for bar, point in zip(bars, top_20_players['total_points']):\n",
    "    plt.text(bar.get_x() + bar.get_width() / 2, bar.get_height() + 1, str(point), ha='center', va='bottom')\n",
    "\n",
    "plt.xlabel('Player (Position, Club)')\n",
    "plt.ylabel('Total Points')\n",
    "plt.title('Top 20 Players with the Most Total Points for the Season')\n",
    "plt.xticks(rotation=45, ha='right')  # Rotate x-axis labels for better readability\n",
    "plt.tight_layout()\n",
    "\n",
    "# Show the plot\n",
    "plt.show()"
   ]
  },
  {
   "cell_type": "markdown",
   "id": "85d3fa3f",
   "metadata": {},
   "source": [
    "We can see that the players with the most points were Erling Haaland, Harry Kane and Mohammed Salah. We will see what attributes contributed to them accumulcation so much points."
   ]
  },
  {
   "cell_type": "code",
   "execution_count": null,
   "id": "a85b407d",
   "metadata": {},
   "outputs": [],
   "source": [
    "grouping_players = top_20_players.groupby('position')\n",
    "\n",
    "# Define colors for each position\n",
    "colors = {'FWD': 'blue', 'MID': 'green', 'DEF': 'orange', 'GK': 'red'}\n",
    "\n",
    "# Create a figure and axis\n",
    "plt.figure(figsize=(12, 6))\n",
    "\n",
    "# Plot each group separately with different colors\n",
    "for position, group in grouping_players:\n",
    "    plt.bar(group['name'] + ' (' + group['position'] + ', ' + group['team'] + ')', group['total_points'], color=colors[position], label=position)\n",
    "\n",
    "plt.xlabel('Player (Position, Club)')\n",
    "plt.ylabel('Total Points')\n",
    "plt.title('Top 20 Players with the Most Total Points for the Season')\n",
    "plt.xticks(rotation=45, ha='right')  # Rotate x-axis labels for better readability\n",
    "plt.tight_layout()\n",
    "plt.legend(title='Position')\n",
    "\n",
    "# Show the plot\n",
    "plt.show()"
   ]
  },
  {
   "cell_type": "markdown",
   "id": "59d9c858",
   "metadata": {},
   "source": [
    "Upon looking at the top 20 players based on position, we can see that 50% of these players were midfielders, 25% were goalkeepers, 20% were forwards, and just 5% were defenders. This could mean that we should prioritize midfielders during our selection process for players every gameweek."
   ]
  },
  {
   "cell_type": "markdown",
   "id": "0957840b",
   "metadata": {},
   "source": [
    "One of our main objectives is to select the players that would give the most points while making sure we minimize the budget used. We decided to create a new variable called PV-ratio which is the ratio of total_ points to value. This way we can find the most valuable players."
   ]
  },
  {
   "cell_type": "code",
   "execution_count": null,
   "id": "743feaba",
   "metadata": {},
   "outputs": [],
   "source": [
    "player_df['PV-ratio'] = player_df['total_points'] / player_df['value']\n",
    "player_df.head()"
   ]
  },
  {
   "cell_type": "markdown",
   "id": "8449f2cb",
   "metadata": {},
   "source": [
    "Based on the table, we can see that our top 3 players are Haaland, Harry Kane and Salah. This corresponds with the top 3 players based on total points. This means that PV ratio will be a very important factor to the total points earned"
   ]
  },
  {
   "cell_type": "code",
   "execution_count": null,
   "id": "b6cb83e0",
   "metadata": {},
   "outputs": [],
   "source": [
    "average_total_points = player_df.groupby(\"position\")['total_points'].mean().reset_index()\n",
    "average_total_points"
   ]
  },
  {
   "cell_type": "markdown",
   "id": "27b41d1e",
   "metadata": {},
   "source": [
    "We decided to take a look at the distribution of average total points based on position"
   ]
  },
  {
   "cell_type": "code",
   "execution_count": null,
   "id": "68b71f4c",
   "metadata": {},
   "outputs": [],
   "source": [
    "average_total_points['player_count'] = player_df.groupby(\"position\").size().reset_index(drop=True)\n",
    "average_total_player = average_total_points.sort_values(by=\"total_points\", ascending=False)\n",
    "average_total_player"
   ]
  },
  {
   "cell_type": "code",
   "execution_count": null,
   "id": "e62975ba",
   "metadata": {
    "scrolled": true
   },
   "outputs": [],
   "source": [
    "fig, ax = plt.subplots()\n",
    "bars = ax.bar(average_total_player['position'], average_total_player['total_points'], color='skyblue')\n",
    "for bar, label in zip(bars, average_total_player['total_points']):\n",
    "    height = bar.get_height()\n",
    "    ax.text(bar.get_x() + bar.get_width() / 2, height, f'{label:.2f}', ha='center', va='bottom')\n",
    "\n",
    "# Add total number of players inside each bar\n",
    "for bar, label in zip(bars, average_total_player['player_count']):\n",
    "    height = bar.get_height()\n",
    "    ax.text(bar.get_x() + bar.get_width() / 2, height / 2, f'Total Players: {label}', ha='center', va='center', fontsize=8, color='red')\n",
    "\n",
    "plt.xlabel('Player Position')\n",
    "plt.ylabel('Average Total Points')\n",
    "plt.title('Average Player Points by Player Position')\n",
    "plt.show()"
   ]
  },
  {
   "cell_type": "markdown",
   "id": "2eec6bca",
   "metadata": {},
   "source": [
    "Based on the plot, we see that forwards and midfielders have the highiest average total points. This could mean that we forwards and midfielders are very important during our selection process and should be prioritized.\n",
    "We do notice that there are much fewer forwards so this could be the reason for such a high average.\n",
    "\n",
    "Let's take a look at the average PV-ratio based on position."
   ]
  },
  {
   "cell_type": "code",
   "execution_count": null,
   "id": "5b70db38",
   "metadata": {},
   "outputs": [],
   "source": [
    "players_df_PV_ratio = player_df.sort_values('PV-ratio', ascending=False)\n",
    "players_df_PV_ratio.head(10)"
   ]
  },
  {
   "cell_type": "code",
   "execution_count": null,
   "id": "a9d54d95",
   "metadata": {},
   "outputs": [],
   "source": [
    "avg_ratio_pos = player_df.groupby('position')['PV-ratio'].mean().reset_index()\n",
    "\n",
    "# Create a bar plot using Matplotlib\n",
    "plt.figure(figsize=(10, 6))\n",
    "colors = {'FWD': 'blue', 'MID': 'green', 'DEF': 'orange', 'GK': 'red'}\n",
    "plt.bar(avg_ratio_pos['position'], avg_ratio_pos['PV-ratio'], color=avg_ratio_pos['position'].map(colors))\n",
    "\n",
    "# Add labels and title\n",
    "plt.xlabel('Player Position')\n",
    "plt.ylabel('Average PV Ratio')\n",
    "plt.title('Average Points-Value Ratio by Positions')\n",
    "\n",
    "# Show the plot\n",
    "plt.show()"
   ]
  },
  {
   "cell_type": "markdown",
   "id": "42854a8d",
   "metadata": {},
   "source": [
    "Looking at the table above, we see that the defenders and midfielders are the most valuable players. Based on this finding, we can see that midfielders are the most important in terms of positions. We will have to investigate a bit more to see why defenders are very valuable but yet we have only 1 defender in our top 20 players based on total points earned. This could be because defenders have less value in general in comparison to forwards."
   ]
  },
  {
   "cell_type": "markdown",
   "id": "87bd0b15",
   "metadata": {},
   "source": [
    "Throughout the course of the season, certain players get to play more than others. Before movinf further, let us see the relationship between points accumulated and minutes played"
   ]
  },
  {
   "cell_type": "code",
   "execution_count": null,
   "id": "9c2fa659",
   "metadata": {},
   "outputs": [],
   "source": [
    "fig = px.scatter(player_df, x='minutes', y='total_points', title='Points by Minutes Played',\n",
    "                 color='position', size='goals_scored', hover_name='name',\n",
    "                 labels={'total_points': 'Total Points', 'minutes': 'Minutes Played', 'goals_scored': 'Goals Scored'},\n",
    "                 size_max=20, opacity=0.7)\n",
    "\n",
    "# Customize the layout\n",
    "fig.update_layout(\n",
    "    title='Points by Minutes Played',\n",
    "    xaxis_title='Minutes played',\n",
    "    yaxis_title='Total points',\n",
    "    legend_title='Position',\n",
    "    showlegend=True\n",
    ")\n",
    "\n",
    "# Show the plot\n",
    "fig.show()"
   ]
  },
  {
   "cell_type": "markdown",
   "id": "c6d8ceb8",
   "metadata": {},
   "source": [
    "As expected, we can see a positive linear relationship between minutes played and total points earned. This is because the more time you have on the field, the more likely you are to accumulate points."
   ]
  },
  {
   "cell_type": "markdown",
   "id": "7c503f9b",
   "metadata": {},
   "source": [
    "There is a possibility of certain players that have a low value could have high total points accumulated. Since we want to prioritize value, lets look at the players that may be undervalued"
   ]
  },
  {
   "cell_type": "code",
   "execution_count": null,
   "id": "76f521fd",
   "metadata": {},
   "outputs": [],
   "source": [
    "fig = px.scatter(player_df, x='value', y='total_points', title='Undervalued Players',\n",
    "                 color='position', hover_name='name',\n",
    "                 labels={'total_points': 'Total Points', 'PV-ratio': 'Points to Value Ratio', 'value': 'Value'},\n",
    "                 size_max=15, opacity=0.7)\n",
    "\n",
    "# Customize the layout\n",
    "fig.update_layout(\n",
    "    title='Undervalued Players',\n",
    "    xaxis_title='Value',\n",
    "    yaxis_title='Total Points',\n",
    "    legend_title='Position',\n",
    "    showlegend=True\n",
    ")\n",
    "\n",
    "# Show the plot\n",
    "fig.show()"
   ]
  },
  {
   "cell_type": "markdown",
   "id": "0f424770",
   "metadata": {},
   "source": [
    "From the plot above, we can see the most undervalued players like Kierian Trippier, Rashford, Odegaard, etc are cheaper but accumulate around 200 points. This means that we dont necessarily have to select the most expensive and popular players to get the most points."
   ]
  },
  {
   "cell_type": "markdown",
   "id": "2a96a020",
   "metadata": {},
   "source": [
    "Using the points system by FPL, lets analyze the data and see which players get the most point for each action.\n",
    "The action with the most possible points in a game is 6 points for each goal scored by a goalkeeper or defender "
   ]
  },
  {
   "cell_type": "code",
   "execution_count": null,
   "id": "6d89dc3f",
   "metadata": {},
   "outputs": [],
   "source": [
    "goalkeepers_defenders = player_df[player_df['position'].isin(['GK', 'DEF'])]\n",
    "\n",
    "# Find the top 10 goal-scorers\n",
    "top_scorers = goalkeepers_defenders.sort_values('goals_scored', ascending=False).head(10)\n",
    "\n",
    "# Create a bar plot\n",
    "plt.figure(figsize=(12, 6))\n",
    "bars = plt.bar(top_scorers['name'] + ' (' + top_scorers['position'] + ')', top_scorers['goals_scored'], color='blue')\n",
    "\n",
    "# Add labels and title\n",
    "plt.xlabel('Player (Position)')\n",
    "plt.ylabel('Goals Scored')\n",
    "plt.title('Top 10 Goal-Scoring Goalkeepers or Defenders')\n",
    "\n",
    "# Display the number of goals on top of the bars\n",
    "for bar, goals in zip(bars, top_scorers['goals_scored']):\n",
    "    plt.text(bar.get_x() + bar.get_width() / 2, bar.get_height() + 0.1, str(goals), ha='center', va='bottom')\n",
    "\n",
    "# Rotate x-axis labels for better readability\n",
    "plt.xticks(rotation=45, ha='right')\n",
    "\n",
    "# Show the plot\n",
    "plt.tight_layout()\n",
    "plt.show()"
   ]
  },
  {
   "cell_type": "markdown",
   "id": "4d484d74",
   "metadata": {},
   "source": [
    "Based on the plot, we can see that no keeper scored a goal which makes sense since there are barely upfield in the game. We can also see that defenders don't score as many goals which is probably why the point is set so high since that is not the defenders role. It might be good to select defenders that are good at scoring and attacking"
   ]
  },
  {
   "cell_type": "markdown",
   "id": "f72ee11b",
   "metadata": {},
   "source": [
    "The action that with the second most point is for each goal scored by a midfielder which is 5 points."
   ]
  },
  {
   "cell_type": "code",
   "execution_count": null,
   "id": "9de7cec5",
   "metadata": {},
   "outputs": [],
   "source": [
    "midfielders = player_df[player_df['position'] == 'MID']\n",
    "top_midfielder_scorers = midfielders.sort_values('goals_scored', ascending=False).head(10)\n",
    "\n",
    "# Create a bar plot\n",
    "plt.figure(figsize=(12, 6))\n",
    "bars = plt.bar(top_midfielder_scorers['name'], top_midfielder_scorers['goals_scored'], color='green')\n",
    "\n",
    "# Add labels and title\n",
    "plt.xlabel('Midfielder')\n",
    "plt.ylabel('Goals Scored')\n",
    "plt.title('Top Goal-Scoring Midfielders')\n",
    "\n",
    "# Display the number of goals on top of the bars\n",
    "for bar, goals in zip(bars, top_midfielder_scorers['goals_scored']):\n",
    "    plt.text(bar.get_x() + bar.get_width() / 2, bar.get_height() + 0.1, str(goals), ha='center', va='bottom')\n",
    "\n",
    "# Rotate x-axis labels for better readability\n",
    "plt.xticks(rotation=45, ha='right')\n",
    "\n",
    "# Show the plot\n",
    "plt.tight_layout()\n",
    "plt.show()"
   ]
  },
  {
   "cell_type": "markdown",
   "id": "4a22519d",
   "metadata": {},
   "source": [
    "We can see that Salah is among the players with the most points. Although midfielders are mostly known for assists,we can see that they score a lot of goals nowadays. These players are attacking midfielders and often play as wingers(LW/RW) or central attacking midfielders(CAM). This also shows why midfielders are very important during the selection process. Selecting an attacking midfielder will be most likely correlate to more points"
   ]
  },
  {
   "cell_type": "markdown",
   "id": "e20f2cb6",
   "metadata": {},
   "source": [
    "The action that with the second most point again is for each penalty save which is 5 points."
   ]
  },
  {
   "cell_type": "code",
   "execution_count": null,
   "id": "cac15b66",
   "metadata": {},
   "outputs": [],
   "source": [
    "goalkeepers = player_df[player_df['position'] == 'GK']\n",
    "\n",
    "# Sort goalkeepers by penalties_saved in descending order\n",
    "top_penalty_saving_goalkeepers = goalkeepers.sort_values('penalties_saved', ascending=False).head(10)\n",
    "\n",
    "# Create a bar plot\n",
    "plt.figure(figsize=(12, 6))\n",
    "bars = plt.bar(top_penalty_saving_goalkeepers['name'], top_penalty_saving_goalkeepers['penalties_saved'], color='orange')\n",
    "\n",
    "# Add labels and title\n",
    "plt.xlabel('Goalkeeper')\n",
    "plt.ylabel('Penalties Saved')\n",
    "plt.title('Top Penalties Saving Goalkeepers')\n",
    "\n",
    "# Display the number of penalties saved on top of the bars\n",
    "for bar, penalties_saved in zip(bars, top_penalty_saving_goalkeepers['penalties_saved']):\n",
    "    plt.text(bar.get_x() + bar.get_width() / 2, bar.get_height() + 0.1, str(penalties_saved), ha='center', va='bottom')\n",
    "\n",
    "# Rotate x-axis labels for better readability\n",
    "plt.xticks(rotation=45, ha='right')\n",
    "\n",
    "# Show the plot\n",
    "plt.tight_layout()\n",
    "plt.show()"
   ]
  },
  {
   "cell_type": "markdown",
   "id": "d2c06353",
   "metadata": {},
   "source": [
    "Looking at the results we see that goalkeepers dont save a lot of penalties. This means that penalty saves would be a very important criteria for selecting a keeper.\n",
    "\n",
    "We will look at a couple other actions that relate to high points"
   ]
  },
  {
   "cell_type": "code",
   "execution_count": null,
   "id": "40679526",
   "metadata": {},
   "outputs": [],
   "source": [
    "forwards = player_df[player_df['position'] == 'FWD']\n",
    "\n",
    "# Sort forwards by goals_scored in descending order\n",
    "top_forward_scorers = forwards.sort_values('goals_scored', ascending=False).head(10)\n",
    "\n",
    "# Create a bar plot\n",
    "plt.figure(figsize=(12, 6))\n",
    "bars = plt.bar(top_forward_scorers['name'], top_forward_scorers['goals_scored'], color='blue')\n",
    "\n",
    "# Add labels and title\n",
    "plt.xlabel('Forward')\n",
    "plt.ylabel('Goals Scored')\n",
    "plt.title('Top Goal-Scoring Forwards')\n",
    "\n",
    "# Display the number of goals on top of the bars\n",
    "for bar, goals in zip(bars, top_forward_scorers['goals_scored']):\n",
    "    plt.text(bar.get_x() + bar.get_width() / 2, bar.get_height() + 0.1, str(goals), ha='center', va='bottom')\n",
    "\n",
    "# Rotate x-axis labels for better readability\n",
    "plt.xticks(rotation=45, ha='right')\n",
    "\n",
    "# Show the plot\n",
    "plt.tight_layout()\n",
    "plt.show()"
   ]
  },
  {
   "cell_type": "code",
   "execution_count": null,
   "id": "ae9cacb2",
   "metadata": {},
   "outputs": [],
   "source": [
    "goalkeepers_and_defenders = player_df[(player_df['position'] == 'GK') | (player_df['position'] == 'DEF')]\n",
    "\n",
    "# Sort by clean_sheets in descending order\n",
    "top_clean_sheet_players = goalkeepers_and_defenders.sort_values('clean_sheets', ascending=False).head(10)\n",
    "\n",
    "# Create a bar plot\n",
    "plt.figure(figsize=(12, 6))\n",
    "bars = plt.bar(top_clean_sheet_players['name'], top_clean_sheet_players['clean_sheets'], color='cyan')\n",
    "\n",
    "# Add labels and title\n",
    "plt.xlabel('Player')\n",
    "plt.ylabel('Clean Sheets')\n",
    "plt.title('Top Players with the Most Clean Sheets')\n",
    "\n",
    "# Display the number of clean sheets on top of the bars\n",
    "for bar, clean_sheets in zip(bars, top_clean_sheet_players['clean_sheets']):\n",
    "    plt.text(bar.get_x() + bar.get_width() / 2, bar.get_height() + 0.1, str(clean_sheets), ha='center', va='bottom')\n",
    "\n",
    "# Rotate x-axis labels for better readability\n",
    "plt.xticks(rotation=45, ha='right')\n",
    "\n",
    "# Show the plot\n",
    "plt.tight_layout()\n",
    "plt.show()"
   ]
  },
  {
   "cell_type": "code",
   "execution_count": null,
   "id": "5438d23b",
   "metadata": {},
   "outputs": [],
   "source": [
    "top_assist_players = player_df.sort_values('assists', ascending=False).head(10)\n",
    "\n",
    "# Create a bar plot\n",
    "plt.figure(figsize=(12, 6))\n",
    "bars = plt.bar(top_assist_players['name'], top_assist_players['assists'], color='gold')\n",
    "\n",
    "# Add labels and title\n",
    "plt.xlabel('Player')\n",
    "plt.ylabel('Assists')\n",
    "plt.title('Top Players with the Most Assists')\n",
    "\n",
    "# Display the number of assists on top of the bars\n",
    "for bar, assists in zip(bars, top_assist_players['assists']):\n",
    "    plt.text(bar.get_x() + bar.get_width() / 2, bar.get_height() + 0.1, str(assists), ha='center', va='bottom')\n",
    "\n",
    "# Rotate x-axis labels for better readability\n",
    "plt.xticks(rotation=45, ha='right')\n",
    "\n",
    "# Show the plot\n",
    "plt.tight_layout()\n",
    "plt.show()"
   ]
  },
  {
   "cell_type": "markdown",
   "id": "49f02d4f",
   "metadata": {},
   "source": [
    "Lets look a bit deeper into how different positions are related to attacking and defending contribution. So far, we data suggests that we should prioritize defenders and midfielders. \n",
    "We have gathered a lot of data supporting the high correlation between total points and midfielders."
   ]
  },
  {
   "cell_type": "code",
   "execution_count": null,
   "id": "03fe73d1",
   "metadata": {},
   "outputs": [],
   "source": [
    "attacking_stats = player_df.groupby('position')[['goals_scored', 'assists']].sum().reset_index()\n",
    "\n",
    "# Melt the DataFrame for better visualization\n",
    "attacking_stats_melted = pd.melt(attacking_stats, id_vars='position', var_name='Attacking Metric', value_name='Count')\n",
    "\n",
    "# Create a bar plot\n",
    "plt.figure(figsize=(12, 6))\n",
    "sns.barplot(x='position', y='Count', hue='Attacking Metric', data=attacking_stats_melted, palette='viridis')\n",
    "\n",
    "# Add labels and title\n",
    "plt.xlabel('Player Position')\n",
    "plt.ylabel('Count')\n",
    "plt.title('Attacking Contribution by Position')\n",
    "\n",
    "# Show the plot\n",
    "plt.tight_layout()\n",
    "plt.legend(title='Attacking Metric')\n",
    "plt.show()"
   ]
  },
  {
   "cell_type": "markdown",
   "id": "154dedf4",
   "metadata": {},
   "source": [
    "We see that midfilders have the most attacking contribution. Again, this data might be skewed since there are generally more midfielders in the league. About 42% of the players in the league are midfielders, 33% are defenders, 12% are forwards and 10% are goalkeepers. "
   ]
  },
  {
   "cell_type": "code",
   "execution_count": null,
   "id": "35d62596",
   "metadata": {},
   "outputs": [],
   "source": [
    "defensive_stats = player_df.groupby('position')[['clean_sheets', 'saves']].sum().reset_index()\n",
    "\n",
    "# Melt the DataFrame for better visualization\n",
    "defensive_stats_melted = pd.melt(defensive_stats, id_vars='position', var_name='Defensive Metric', value_name='Count')\n",
    "\n",
    "# Create a bar plot\n",
    "plt.figure(figsize=(12, 6))\n",
    "sns.barplot(x='position', y='Count', hue='Defensive Metric', data=defensive_stats_melted, palette='muted')\n",
    "\n",
    "# Add labels and title\n",
    "plt.xlabel('Player Position')\n",
    "plt.ylabel('Count')\n",
    "plt.title('Defensive Contribution by Position')\n",
    "\n",
    "# Show the plot\n",
    "plt.tight_layout()\n",
    "plt.legend(title='Defensive Metric')\n",
    "plt.show()"
   ]
  },
  {
   "cell_type": "markdown",
   "id": "a27d9cc5",
   "metadata": {},
   "source": [
    "In terms of defensive contributions, we see that goalkeepers contribute the most followed by midfielders. Based on this, we can conclude that midfielders contribute significantly both attacking-wise and defensive-wise.\n",
    "\n",
    "Lets see how skewed each position"
   ]
  },
  {
   "cell_type": "code",
   "execution_count": null,
   "id": "17782509",
   "metadata": {},
   "outputs": [],
   "source": [
    "plt.figure(figsize=(12, 8))\n",
    "sns.boxplot(x='position', y='PV-ratio', data=player_df, palette='Set3')\n",
    "plt.title('Distribution of Average PV Ratio by Position')\n",
    "plt.xlabel('Player Position')\n",
    "plt.ylabel('PV Ratio')\n",
    "plt.show()"
   ]
  },
  {
   "cell_type": "markdown",
   "id": "327b7d85",
   "metadata": {},
   "source": [
    "Looking at the PV-ratio, we can see that all data for all positions are heavily right skewed but there are no outliers. "
   ]
  },
  {
   "cell_type": "markdown",
   "id": "d9e62af5",
   "metadata": {},
   "source": [
    "We have taken a look at the position that attribute to more points, lets also look at the position that has the most negative contributions since it is possible to get negative points in a game. Negative points can be gotten from red cards, missed penalty, yellow card, goals conceded, etc"
   ]
  },
  {
   "cell_type": "code",
   "execution_count": null,
   "id": "58dfc70b",
   "metadata": {},
   "outputs": [],
   "source": [
    "negative_stats = player_df.groupby('position')[['own_goals', 'yellow_cards', 'red_cards', 'goals_conceded', 'penalties_missed']].sum().reset_index()\n",
    "\n",
    "# Melt the DataFrame for better visualization\n",
    "negative_stats_melted = pd.melt(negative_stats, id_vars='position', var_name='Negative Metric', value_name='Count')\n",
    "\n",
    "# Create a bar plot\n",
    "plt.figure(figsize=(12, 6))\n",
    "sns.barplot(x='position', y='Count', hue='Negative Metric', data=negative_stats_melted, palette='pastel')\n",
    "\n",
    "# Add labels and title\n",
    "plt.xlabel('Player Position')\n",
    "plt.ylabel('Count')\n",
    "plt.title('Negative Contribution by Position (Including Penalties Missed)')\n",
    "\n",
    "# Show the plot\n",
    "plt.tight_layout()\n",
    "plt.legend(title='Negative Metric')\n",
    "plt.show()"
   ]
  },
  {
   "cell_type": "markdown",
   "id": "2b8e5faa",
   "metadata": {},
   "source": [
    "Based on the chart, we see that defender and midfielders have the most negative contributions through goals conceeded and yellow cards received.\n",
    "\n",
    "We can conclude that the most valuable positions we need to prioritize are in this order:\n",
    "1. Midfielders\n",
    "2. Defenders\n",
    "3. Forwards\n",
    "4. Goalkeepers"
   ]
  },
  {
   "cell_type": "markdown",
   "id": "2040f87b",
   "metadata": {},
   "source": [
    "### Correlation\n",
    "Now that we have done some preliminary analysis, lets see how the columns correlate with each other.\n",
    "To do that we add a couple more columns we think might be important for our analysis from the original dataset.\n",
    "Let's create a new data set and add all the columns we need"
   ]
  },
  {
   "cell_type": "code",
   "execution_count": null,
   "id": "9f0a3956",
   "metadata": {},
   "outputs": [],
   "source": [
    "feature_df=df[['name', 'position', 'team', 'xP', 'GW', 'minutes', 'goals_scored', 'assists', 'clean_sheets', 'influence', 'creativity', 'threat', 'ict_index','starts','bonus','bps','value', 'total_points','was_home','saves','penalties_saved','yellow_cards','red_cards','goals_conceded','own_goals']].copy()\n",
    "feature_df.head()"
   ]
  },
  {
   "cell_type": "markdown",
   "id": "8e20260f",
   "metadata": {},
   "source": [
    "Let's drop the rows where minutes is less than 1. This means that those players had no minutes played and would not be important for our analysis"
   ]
  },
  {
   "cell_type": "code",
   "execution_count": null,
   "id": "b788d000",
   "metadata": {},
   "outputs": [],
   "source": [
    "feature_df = feature_df.drop(feature_df[feature_df['minutes'] < 1].index, axis = 0).reset_index(drop=True)\n",
    "feature_df.head(10)"
   ]
  },
  {
   "cell_type": "markdown",
   "id": "70df1d6d",
   "metadata": {},
   "source": [
    "Lets confirm that the 0 minute rows have been removed"
   ]
  },
  {
   "cell_type": "code",
   "execution_count": null,
   "id": "1b79d99f",
   "metadata": {
    "scrolled": true
   },
   "outputs": [],
   "source": [
    "zero_minutes_rows = feature_df[feature_df['minutes'] == 0]\n",
    "zero_minutes_rows"
   ]
  },
  {
   "cell_type": "markdown",
   "id": "c92be67a",
   "metadata": {},
   "source": [
    "Lets add a column called 'played' which shows if a player played in a certain gameweek"
   ]
  },
  {
   "cell_type": "code",
   "execution_count": null,
   "id": "dfcd10c1",
   "metadata": {},
   "outputs": [],
   "source": [
    "feature_df['played'] = 0\n",
    "\n",
    "# Set the value to 1 for rows where minutes are greater than 0 (indicating player participated)\n",
    "feature_df.loc[df['minutes'] > 0, 'played'] = 1\n",
    "feature_df.head()"
   ]
  },
  {
   "cell_type": "markdown",
   "id": "0519f26a",
   "metadata": {},
   "source": [
    "Lets add points per minute to see the how this correlates with total points earned"
   ]
  },
  {
   "cell_type": "code",
   "execution_count": null,
   "id": "737b5885",
   "metadata": {},
   "outputs": [],
   "source": [
    "feature_df['Points_per_Minute'] = feature_df['total_points'] / feature_df['minutes']\n",
    "feature_df"
   ]
  },
  {
   "cell_type": "markdown",
   "id": "8766e0e1",
   "metadata": {},
   "source": [
    "Lets add a column for PV ratio"
   ]
  },
  {
   "cell_type": "code",
   "execution_count": null,
   "id": "0ea06967",
   "metadata": {},
   "outputs": [],
   "source": [
    "feature_df['Points_per_Value'] = feature_df['total_points'] / feature_df['value']\n",
    "feature_df"
   ]
  },
  {
   "cell_type": "markdown",
   "id": "8d92f2fa",
   "metadata": {},
   "source": [
    "Lets add a column for rolling average to represent the form of the players each week"
   ]
  },
  {
   "cell_type": "code",
   "execution_count": null,
   "id": "9bd5bb2b",
   "metadata": {},
   "outputs": [],
   "source": [
    "feature_df['Rolling_Avg_Goals'] = feature_df.groupby('name')['goals_scored'].rolling(window=3, min_periods=1).mean().reset_index(level=0, drop=True)\n",
    "feature_df"
   ]
  },
  {
   "cell_type": "code",
   "execution_count": null,
   "id": "31803a21",
   "metadata": {},
   "outputs": [],
   "source": [
    "feature_df['Goal_Involvement'] = (feature_df['goals_scored'] + feature_df['assists'])\n",
    "feature_df"
   ]
  },
  {
   "cell_type": "markdown",
   "id": "7b6946dd",
   "metadata": {},
   "source": [
    "We will create dummies for position and was_home columns since they have few unique values"
   ]
  },
  {
   "cell_type": "code",
   "execution_count": null,
   "id": "b6ad5c0e",
   "metadata": {},
   "outputs": [],
   "source": [
    "dummies_for_pl = pd.get_dummies(feature_df[[\"position\",\"was_home\"]])\n",
    "dummies_for_pl"
   ]
  },
  {
   "cell_type": "code",
   "execution_count": null,
   "id": "15c88a09",
   "metadata": {},
   "outputs": [],
   "source": [
    "feature_df.drop(columns=[\"position\",\"was_home\"], inplace=True)\n",
    "feature_df = pd.concat([feature_df, dummies_for_pl], axis=1)"
   ]
  },
  {
   "cell_type": "code",
   "execution_count": null,
   "id": "afbceb37",
   "metadata": {},
   "outputs": [],
   "source": [
    "feature_df"
   ]
  },
  {
   "cell_type": "code",
   "execution_count": null,
   "id": "e87d04bc",
   "metadata": {},
   "outputs": [],
   "source": [
    "feature_df.to_csv('../data/cleaned.csv')"
   ]
  },
  {
   "cell_type": "markdown",
   "id": "9ced9078",
   "metadata": {},
   "source": [
    "Let'c create a heatmap to show the correlation of each column"
   ]
  },
  {
   "cell_type": "code",
   "execution_count": null,
   "id": "a00cb90d",
   "metadata": {},
   "outputs": [],
   "source": [
    "corr = feature_df.iloc[:, 2:].corr()\n",
    "\n",
    "# Set up the matplotlib figure\n",
    "plt.figure(figsize=(20, 20))\n",
    "\n",
    "# Create a heatmap with annotations\n",
    "sns.heatmap(corr, cmap=\"YlGnBu\", annot=True, fmt=\".2f\")\n",
    "\n",
    "# Display the plot\n",
    "plt.show()"
   ]
  },
  {
   "cell_type": "markdown",
   "id": "84c2c8b2",
   "metadata": {},
   "source": [
    "We can see high correlations between a couple columns we will look into these correlations in the next stage of our analysis "
   ]
  },
  {
   "cell_type": "code",
   "execution_count": null,
   "id": "24e34848",
   "metadata": {},
   "outputs": [],
   "source": []
  }
 ],
 "metadata": {
  "kernelspec": {
   "display_name": "Python 3 (ipykernel)",
   "language": "python",
   "name": "python3"
  },
  "language_info": {
   "codemirror_mode": {
    "name": "ipython",
    "version": 3
   },
   "file_extension": ".py",
   "mimetype": "text/x-python",
   "name": "python",
   "nbconvert_exporter": "python",
   "pygments_lexer": "ipython3",
   "version": "3.11.5"
  }
 },
 "nbformat": 4,
 "nbformat_minor": 5
}
